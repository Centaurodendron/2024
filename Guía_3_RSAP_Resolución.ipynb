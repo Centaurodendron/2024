{
  "cells": [
    {
      "cell_type": "markdown",
      "metadata": {
        "id": "view-in-github",
        "colab_type": "text"
      },
      "source": [
        "<a href=\"https://colab.research.google.com/github/Centaurodendron/2024/blob/main/Gu%C3%ADa_3_RSAP_Resoluci%C3%B3n.ipynb\" target=\"_parent\"><img src=\"https://colab.research.google.com/assets/colab-badge.svg\" alt=\"Open In Colab\"/></a>"
      ]
    },
    {
      "cell_type": "markdown",
      "metadata": {
        "id": "Jr6uzfKeNcHw"
      },
      "source": [
        "<img src=\"https://raw.githubusercontent.com/IFuentesSR/SAP_2024/main/sap_images/udla_logo.png\" width=\"400\" align=\"right\">\n",
        "\n",
        "### Facultad de Medicina Veterinaria y Agronomía - Escuela de Agronomía\n",
        "\n",
        "## **Relación Suelo Agua Planta (TAG2007)**\n",
        "\n",
        "##### ***Profesor: Felipe Menares***\n",
        "\n",
        "### Contenido de agua en la planta\n",
        "\n",
        "**Introducción y Conceptos Básicos**: El agua dentro de las plantas está sujeta a las mismas tensiones y fuerzas a las que está sometida dentro del suelo, sin embargo, la conducción en contra del sentido de la gravedad, por medio de vasos celulares de muy reducido tamaño, determinan un comportamiento diferente del agua a través de los tejidos.\n",
        "El valor del Ψh de la solución del suelo rara vez es inferior a -0,1 MPa. Puesto que la transpiración genera fácilmente un valor de Ψ para el xilema de la raíz de -0,5 MPa hasta -2/-3 MPa en la hoja, el agua se moverá a través de la raíz en respuesta al gradiente de potencial.\n",
        "\n",
        "En una célula vegetal existen membranas que seleccionan el paso de iones y\n",
        "vacuolas que presionan la pared celular generando el turgor celular, por lo que los principales componentes del potencial hídrico en la célula son Ψp y Ψs.\n",
        "\n",
        "\n",
        "Potencial hídrico de la célula: Ψ = Ψp + Ψs + ~~Ψg~~\n",
        "\n",
        "En una célula el potencial de gravedad es muy pequeño, su valor se desprecia\n",
        "porque en términos de magnitud es demasiado pequeño en relación a los otros componentes.\n",
        "\n",
        "El movimiento de agua en la planta ocurre por un gradiente de potencial, ésta se\n",
        "mueve desde un mayor potencial (suelo húmedo) a un menor potencial\n",
        "(atmósfera).\n",
        "\n",
        "El potencial de presión suele ser positivo, pero es negativo en el caso de los vasos del xilema.\n",
        "\n",
        "Uno de las teorías que modela el movimiento de agua a través de los elementos del vaso o vasos xilemáticos es la Ley de Poiseuille, con la cual es posible simular el flujo volumétrico de savia cruda por medio de tubos conductores.\n",
        "\n",
        "La Ecuación se puede expresar de la siguiente forma:\n",
        "\n",
        "\n",
        "**qv = 𝜋r4ΔP/8𝜂l**\n",
        "\n",
        "\n",
        "donde:\n",
        "\n",
        "qv = caudal o flujo volumétrico en cm3/s\n",
        "\n",
        "ΔP = Gradiente de presión hidrostática o diferencia de presión entre los extremos del tubo. Se mide en pascales (Pa).\n",
        "\n",
        "r: Radio del capilar o tubo. Se mide en metros (m).\n",
        "\n",
        "l: Longitud del capilar. Se mide en metros (m).\n",
        "\n",
        "η: Viscosidad dinámica del fluido, que indica la resistencia interna del fluido al flujo. Se mide en pascal-segundo (Pa·s).\n",
        "\n",
        "\n",
        "**Resistencia del tubo al flujo (R)**\n",
        "\n",
        "La resistencia del capilar al flujo se define como:\n",
        "\n",
        "**𝑅 = Δ𝑝/𝑞𝑣**\n",
        "\n",
        "La resistencia R está relacionada con la dificultad que tiene el\n",
        "fluido para moverse a través del tubo."
      ]
    },
    {
      "cell_type": "markdown",
      "metadata": {
        "id": "VzVk_FjwYQPj"
      },
      "source": []
    },
    {
      "cell_type": "markdown",
      "metadata": {
        "id": "jIci_rh8Nczu"
      },
      "source": [
        "### *Ejercicio 1*\n",
        "\n",
        "A partir de la información contenida en la tabla, establezca qué valores de potencial de solutos debe alcanzar la planta para conseguir el transporte continuo de agua desde la raíz a las hojas.\n",
        "\n",
        "\n",
        "<img src=\"https://github.com/Centaurodendron/2024/raw/99578bd8490436d3d19e8dfc9430e6f5ed80ecc2/Cuadro%20Potenciales.jpg\">"
      ]
    },
    {
      "cell_type": "code",
      "execution_count": 5,
      "metadata": {
        "id": "R-JJDxuZE7YH",
        "colab": {
          "base_uri": "https://localhost:8080/",
          "height": 0
        },
        "outputId": "bb384393-a8be-4927-bcd4-00484bc62d71"
      },
      "outputs": [
        {
          "output_type": "stream",
          "name": "stdout",
          "text": [
            "-0.1 -0.1 0.0 -0.15 -0.59\n"
          ]
        }
      ],
      "source": [
        "#fijar un valor de potencial total que permita el flujo ascendente (progresivamente menor) y obtener el valor de potencial de solutos\n",
        "# recuerde = El Potencial de Solutos siempre NEGATIVO o 0\n",
        "#PH1 (suelo) = -0.2\n",
        "# -0.2 = PS1+(-0.01)+(-0.09)\n",
        "PS1 = -0.2+0.01+0.09 #despejo el potencial de soluto del suelo (PS1)\n",
        "#PH2 (potencial total al nivel de los pelos radicales) = -0.3\n",
        "# -0.3 = PS2+(-0.2)\n",
        "PS2 = -0.3+0.2 #despejo el potencial de soluto al nivel de los pelos radicales (PS2)\n",
        "#PH3 (potencial total al nivel de las células de la raíz) = -0.5\n",
        "# -0.5 = PS3+(-0.5)\n",
        "PS3 = -0.5+0.5 #despejo el potencial de soluto al nivel de las células de la raíz (PS3)\n",
        "#PH4 (potencial total a nivel del xilema del tallo) = -0.55\n",
        "# -0.55 = PS4+(-0.4)\n",
        "PS4 = -0.55+0.4 #despejo el potencial de soluto al nivel del xilema del tallo (PS4)\n",
        "#PH5 (potencial total a nivel de la hoja) = -0.8\n",
        "# -0.8 = PS5+(0.2)+(0.01)\n",
        "PS5 = -0.8+0.2+0.01 #despejo el potencial de soluto al nivel de la hoja (PS5)\n",
        "print(round(PS1,2),round(PS2,2),round(PS3,2),round(PS4,2),round(PS5,2))"
      ]
    },
    {
      "cell_type": "markdown",
      "metadata": {
        "id": "M542GLKfNch4"
      },
      "source": [
        "\n",
        "### *Ejercicio 2*\n",
        "\n",
        "2.1. Una planta de maíz presenta una hoja a 40 cm de altura donde el potencial de presión en una célula del mesófilo es de 0.2 MPa.\n",
        "\n",
        "¿Que potencial de solutos presenta el mesófilo si el potencial hídrico en dicho punto es de -0.9 MPa?\n",
        "\n",
        "2.2. Si un tensiómetro a una profundidad de 0.3 m, adyacente a dicha planta, presenta una tensión de 30 cb. ¿Desde donde se mueve el agua, desde el mesófilo al suelo, o desde el suelo al mesófilo?\n",
        "\n",
        "** Consideren para efectos de conversión de unidades que 1 MPa es equivalente a 100 m, y que 1 cb es\n",
        "equivalente a 0.001 MPa.\n"
      ]
    },
    {
      "cell_type": "code",
      "execution_count": 6,
      "metadata": {
        "id": "hMHzggdGZ7mG",
        "colab": {
          "base_uri": "https://localhost:8080/",
          "height": 0
        },
        "outputId": "f012a621-354f-40f3-82df-12dbe831c89e"
      },
      "outputs": [
        {
          "output_type": "stream",
          "name": "stdout",
          "text": [
            "-1.1\n"
          ]
        }
      ],
      "source": [
        "PP = 0.2 #potencial de presión en la hoja\n",
        "PHT = -0.9 # ptencial hídrico total en la hoja\n",
        "# El potencial gravitacional en las plantas es despreciable, solo considerar a alturas mayores a 100 cm\n",
        "PSol = PHT - PP #potencial de soluto\n",
        "print(PSol)"
      ]
    },
    {
      "cell_type": "code",
      "execution_count": 9,
      "metadata": {
        "id": "CMHdnezEk5NI",
        "colab": {
          "base_uri": "https://localhost:8080/",
          "height": 0
        },
        "outputId": "511c6b3b-ec7d-41d6-e35d-ab1d19508843"
      },
      "outputs": [
        {
          "output_type": "stream",
          "name": "stdout",
          "text": [
            "-0.033\n"
          ]
        }
      ],
      "source": [
        "PM = -30 * 0.001 #El potencial mátrico siempre es negativo y de cb a MPa multiplamos por 0.001\n",
        "PG = -0.3/100 #El potencial gravitacional sí es importante en el suelo y los metros los dividimos en 100 para transformar la profundidad a MPa\n",
        "PHTsuelo = PM + PG #potencial hídrico total en el suelo\n",
        "print(PHTsuelo)"
      ]
    },
    {
      "cell_type": "markdown",
      "source": [
        "Ya que el potencial hídrico total de la hoja es -0.9 y el potencial total del suelo es de -0.033, el agua se moverá desde el suelo al mesófilo."
      ],
      "metadata": {
        "id": "ACQSXSoFG1_q"
      }
    },
    {
      "cell_type": "markdown",
      "metadata": {
        "id": "WQu4GP4zudgk"
      },
      "source": [
        "\n",
        "### *Ejercicio 3*\n",
        "\n",
        "1.\tDetermine el caudal volumétrico de los vasos xilemáticos de una planta de maíz, la cual posee tubos de 15 um (0,0015 cm), de raíz a hoja hay una longuitud promedio de 2,3 m, el gradiente hidroestático es de 0,4 MPa y la viscosidad de la savia cruda es de 0,001 Pa.s (equivalente al agua en la prática).\n",
        "2. A partir del resultado anterior y considerando 20 vasos/mm2, 50 mm2 de superficie transversal de cada hoja, 12 hojas por planta y 6 horas transpirando, ¿Cuántos litros conduce cada planta?"
      ]
    },
    {
      "cell_type": "code",
      "source": [
        "r = 0.0015 #centímetros\n",
        "l = 250 #centímetros\n",
        "deltaP = 0.4*1000000 #para expresarlo en Pascales\n",
        "n = 0.001 # viscosidad savia en Pa.s\n",
        "qv = 3.1415*r**4*deltaP/(8*n*l) #ecuación de flujo volumétrico o caudal (qv) en cm3/s\n",
        "qvpp = qv*20*50*12 # qv por planta en cm3/s\n",
        "qvppd = (qvpp*3600*6)/1000 #qv por planta al día en litros considerando 6 horas de apertura estomática\n",
        "print(round(qv,10),round(qvpp,5),round(qvppd,5))"
      ],
      "metadata": {
        "id": "D7IQBkKkNzzu",
        "colab": {
          "base_uri": "https://localhost:8080/",
          "height": 0
        },
        "outputId": "45a227c9-1992-47b7-bfe7-8ee80efabd26"
      },
      "execution_count": 26,
      "outputs": [
        {
          "output_type": "stream",
          "name": "stdout",
          "text": [
            "3.1808e-06 0.03817 0.82446\n"
          ]
        }
      ]
    },
    {
      "cell_type": "markdown",
      "source": [
        "Son números muy pequeños ya que corresponde al caudal de savia que transporta un solo vaso xilemático en los tallos y hojas. Una planta de maíz transporta 0,04 cm3/s y transpira por 6 horas (tiempo que mantiene abiertos los estomas) aproximadamente 0,82 litros de agua un día de verano."
      ],
      "metadata": {
        "id": "cWwlPLfqH58W"
      }
    },
    {
      "cell_type": "markdown",
      "metadata": {
        "id": "VZ5CMpIU3tUU"
      },
      "source": [
        "### *Ejercicio 4*\n",
        "\n",
        "1.\tCalcule la resistencia al flujo que existiría en el ejemplo anterior, siendo el potencial hídrico del suelo de -0,1 y el potencial hídrico xilemático de -0,8 MPa."
      ]
    },
    {
      "cell_type": "code",
      "execution_count": 32,
      "metadata": {
        "id": "zp7MsSraNXWk",
        "colab": {
          "base_uri": "https://localhost:8080/",
          "height": 0
        },
        "outputId": "f2d641b9-c092-4d71-ce09-b8960c9c115e"
      },
      "outputs": [
        {
          "output_type": "stream",
          "name": "stdout",
          "text": [
            "220072.585 0.22\n"
          ]
        }
      ],
      "source": [
        "deltaP = abs(-0.8 - (-0.1)) # Delta de potencial entre el xilema y el suelo. \"abs\" es la forma de calcular el valor absoluto de un número en este caso en MPa\n",
        "R = deltaP/qv # la unidad resultante sería MPa.s/cm3\n",
        "R2 = R/1000000 # expresado en MPa.s/m3\n",
        "print(round(R,3),round(R2,3))"
      ]
    }
  ],
  "metadata": {
    "colab": {
      "provenance": [],
      "include_colab_link": true
    },
    "kernelspec": {
      "display_name": "Python 3 (ipykernel)",
      "language": "python",
      "name": "python3"
    },
    "language_info": {
      "codemirror_mode": {
        "name": "ipython",
        "version": 3
      },
      "file_extension": ".py",
      "mimetype": "text/x-python",
      "name": "python",
      "nbconvert_exporter": "python",
      "pygments_lexer": "ipython3",
      "version": "3.7.8"
    }
  },
  "nbformat": 4,
  "nbformat_minor": 0
}