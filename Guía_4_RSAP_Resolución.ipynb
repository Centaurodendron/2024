{
  "cells": [
    {
      "cell_type": "markdown",
      "metadata": {
        "id": "view-in-github",
        "colab_type": "text"
      },
      "source": [
        "<a href=\"https://colab.research.google.com/github/Centaurodendron/2024/blob/main/Gu%C3%ADa_4_RSAP_Resoluci%C3%B3n.ipynb\" target=\"_parent\"><img src=\"https://colab.research.google.com/assets/colab-badge.svg\" alt=\"Open In Colab\"/></a>"
      ]
    },
    {
      "cell_type": "markdown",
      "metadata": {
        "id": "tMTM57iGivWq"
      },
      "source": [
        "<img src=\"https://raw.githubusercontent.com/IFuentesSR/SAP_2024/main/sap_images/udla_logo.png\" width=\"300\" align=\"right\">\n",
        "\n",
        "### Facultad de Medicina Veterinaria y Agronomía - Escuela de Agronomía\n",
        "\n",
        "## **Relación suelo-agua-planta (AGR755)**\n",
        "\n",
        "##### ***Profesor: Felipe Menares***\n",
        "\n",
        "### *El sistema agua planta*\n",
        "\n",
        "El sistema hídrico de las plantas debe entenderse en conjunto con el sistema atmosférico, ya que la vegetación juega un rol clave en el ciclo del agua, actuando como un medio de transporte a través del cual una parte del agua en estado líquido se transforma en vapor. Así, las plantas funcionan como un sistema interconectado de resistencias o conductancias que regulan el flujo de agua hacia la atmósfera.\n",
        "\n",
        "\n",
        "1.   **Objetivo:** Este taller busca profundizar en las herramientas de programación y ejercicios aplicados asociados al sistema agua-planta-atmósfera.\n",
        "\n",
        "2.   **Resultados de aprendizaje:** RAA7. Caracterizar los procesos y componentes asociados al sistema agua-planta-atmósfera."
      ]
    },
    {
      "cell_type": "markdown",
      "metadata": {
        "id": "sJL_pCfHpdCZ"
      },
      "source": [
        "<img src=\"https://raw.githubusercontent.com/IFuentesSR/SAP_2024/main/sap_images/flow.png\" width=\"300\" align=\"right\">\n",
        "\n",
        "## Taller N° 4\n",
        "\n",
        "En las clases vimos que el flujo en las plantas está principalmente mediado por la evapotranspiración en el mesófilo que tensiona a la columna de agua. Esta fuerza está mediada por la cohesión entre las moléculas de agua, su adhesión a los vasos capilares y el gradiente de potencial, que a nivel de la canopia presenta una elevada tensión. Estos factores facilitan el movimiento de agua y nutrientes a través del xilema, propagándose hacia las raíces, donde ocurre la absorción por un gradiente de potencial.\n",
        "\n",
        "Recordemos que:\n",
        "\n",
        "*\n",
        "$$E = \\frac{C_{va \\, (\\text{hoja})} - C_{va \\, (\\text{aire})}}{r_e + r_{ac}} \\ $$\n",
        "\n",
        "\n",
        "Siendo:\n",
        "\n",
        "**E**: Tasa transpiratoria (mol m-2 s-1)\n",
        "\n",
        "**Cva (hoja) - Cva (aire)**: diferencia de concentración de vapor entre los espacios de aire de la hoja y el aire del exterior: (mol m–3).\n",
        "\n",
        "**re + rac**: resistencia del poro del estoma y resistencia del aire circundante en la superficie de la hoja (sm-1).\n",
        "\n",
        "La resistencia es la medida inversa de la conductancia:\n",
        "una aumento en la resistencia equivale a una disminución en la conductancia.\n",
        "\n",
        "\n"
      ]
    },
    {
      "cell_type": "markdown",
      "source": [
        "##Ejercicio 1\n",
        "\n",
        "Obtenga el valor de humedad relativa del aire a partir de la ecuación de Tasa transpiratoria.\n",
        "\n",
        "Datos:     \n",
        "\n",
        "**Día seco de verano**: Baja humedad relativa, menor a 70%                      \n",
        "\n",
        "**E (Tasa transpiratoria)**: Para un cultivo como la frutilla en un día soleado de verano, E equivale a 2,2 mmol m⁻² s⁻¹.\n",
        "\n",
        "\n",
        "**re (resistencia estomática)**: 300 s m⁻¹ (en verano caluroso y seco).\n",
        "\n",
        "\n",
        "**rac (resistencia de la capa límite)**: Depende de la velocidad del viento, con 2 m/s, rac valdría aprox 50 s m⁻¹.\n",
        "\n",
        "\n",
        "**Cva (hoja)**: Asumiendo que la hoja está saturada de vapor de agua, la concentración de vapor de agua en la hoja (Cva (hoja)) sería de aproximadamente 30.3 g m⁻³ (equivalente a la presión de vapor de saturación a 30°C)."
      ],
      "metadata": {
        "id": "e7PlWkg5sXbL"
      }
    },
    {
      "cell_type": "markdown",
      "source": [],
      "metadata": {
        "id": "TbmsHd-GtjLU"
      }
    },
    {
      "cell_type": "code",
      "source": [
        "E1 = 2.2 # mmol m⁻² s⁻¹\n",
        "E = E1/1000 # mol m⁻² s⁻¹\n",
        "re = 300 # s m⁻¹\n",
        "rac = 50 # s m⁻¹\n",
        "Cva_hoja = 30.3 # g m⁻³\n",
        "Cva_hoja1 = 30.3/18 # mol m⁻³ transformación a Mol, 1 mol de agua equivale a 18 gramos\n",
        "# E = (Cva_hoja - Cva_aire) / (re + rac)\n",
        "Cva_aire = Cva_hoja1 - E * (re + rac)\n",
        "#Cva_aire en mol/m3\n",
        "# La humedad relativa se calcula como la relación entre la presión parcial del vapor de agua en el aire y la presión de vapor de saturación a esa temperatura.\n",
        "HR = (Cva_aire/Cva_hoja1) * 100 #se considera la Cva_hoja equivalente a la presión de vapor saturado\n",
        "\n",
        "print(round(Cva_hoja1,3),round(Cva_aire,3),round(HR,3))"
      ],
      "metadata": {
        "colab": {
          "base_uri": "https://localhost:8080/"
        },
        "id": "UU2-MLz-sWLI",
        "outputId": "4cd0d7f3-4d10-411a-d5fb-da2a70b1fcbf"
      },
      "execution_count": null,
      "outputs": [
        {
          "output_type": "stream",
          "name": "stdout",
          "text": [
            "1.683 0.913 54.257\n"
          ]
        }
      ]
    },
    {
      "cell_type": "markdown",
      "source": [
        "De los datos y cifras obtenidas podemos decir que:\n",
        "- La resistencia que oponen los estomas al flujo de vapor de agua es 6 veces mayor a la resistencia que opone la capa límite.\n",
        "- El aire cálido, a 30°C puede sostener 30.3 gramos de vapor de agua por metro cúbico cuando está saturado.\n",
        "- La diferencia de contenido de vapor de agua entre la hoja y el aire es casi el doble y una humedad relativa de 54.2% en un día caluroso puede determinar la transpiración de 2.2 mmol/m2 s"
      ],
      "metadata": {
        "id": "ckTcxbS8D9qK"
      }
    },
    {
      "cell_type": "markdown",
      "metadata": {
        "id": "9a0So2JMyt7O"
      },
      "source": [
        "## Ejercicio 2\n",
        "\n",
        "Imaginen que el diferencial de concentración del vapor de agua ($\\Delta [ H_2O]$) es de 22.9 g/m$^3$ entre la superficie de la hoja y el aire turbulento adyacente en una hoja de 5 cm de largo.\n",
        "\n",
        "\n",
        "Si la velocidad del viento es de 0.1 m/s y no existe un diferencial de temperaturas entre la hoja y el aire circundante (20° C).\n",
        "\n",
        "* ¿Cuál es el grosor de la capa límite?\n",
        "* ¿Cual es el flujo de vapor de agua?\n",
        "* Si la velocidad del viento aumenta a 10 m/s, ¿Como afectaría a nuestros calculos?\n",
        "\n",
        "Consideren que el coeficiente de difusividad del vapor de agua a 20°C es de 2.4 $\\times$ 10$^{-5}$ m$^2$/s.\n",
        "\n",
        "Para estos cálculos es necesario recordar la ley de Fick correspondiente al flujo por difusión.\n",
        "\n",
        "$J_s = D_s \\frac{\\Delta C}{\\Delta x}$\n",
        "\n",
        "Tambien es necesario considerar que el grosor de la capa límite (mm) es equivalente a $4 \\sqrt{\\frac{l}{u}}$.\n",
        "\n",
        "<img src=\"https://raw.githubusercontent.com/IFuentesSR/SAP_2024/main/sap_images/capa_limite.png\" width=\"600\">"
      ]
    },
    {
      "cell_type": "code",
      "execution_count": null,
      "metadata": {
        "colab": {
          "base_uri": "https://localhost:8080/"
        },
        "id": "jXguJQrg09UX",
        "outputId": "48515add-8a62-4ca0-f8cd-aa1a0d110ced"
      },
      "outputs": [
        {
          "output_type": "execute_result",
          "data": {
            "text/plain": [
              "2.8284271247461903"
            ]
          },
          "metadata": {},
          "execution_count": 4
        }
      ],
      "source": [
        "#Grosor de la capa límite\n",
        "l = 5/100 # metros\n",
        "u = 0.1 # m/s\n",
        "CL = 4*(l/u)**0.5\n",
        "CL"
      ]
    },
    {
      "cell_type": "code",
      "execution_count": null,
      "metadata": {
        "colab": {
          "base_uri": "https://localhost:8080/"
        },
        "id": "pelOifjX1U-G",
        "outputId": "cee918f4-d454-4289-842c-532f42550cdc"
      },
      "outputs": [
        {
          "output_type": "stream",
          "name": "stdout",
          "text": [
            "0.194 16.789\n"
          ]
        }
      ],
      "source": [
        "#Flujo de vapor de agua\n",
        "D = 2.4*10**-5 # m2/s\n",
        "Delta_C = 22.9 # g/m3\n",
        "DeltaX = CL/1000\n",
        "J = D*(Delta_C/DeltaX)\n",
        "Jd = (J*3600*24)/1000\n",
        "print(round(J,3),round(Jd,3))"
      ]
    },
    {
      "cell_type": "code",
      "execution_count": null,
      "metadata": {
        "colab": {
          "base_uri": "https://localhost:8080/"
        },
        "id": "8HlQRuO66pTc",
        "outputId": "e4a72f2a-9748-4708-c7a1-6e93d0f0634d"
      },
      "outputs": [
        {
          "output_type": "stream",
          "name": "stdout",
          "text": [
            "0.0 1.943\n"
          ]
        }
      ],
      "source": [
        "#Si el viento aumenta 100 veces\n",
        "CL2 = (4*(0.05/10)**0.5)/1000\n",
        "J2 = D*(Delta_C/CL2)\n",
        "print(round(CL2,3),round(J2,3))"
      ]
    },
    {
      "cell_type": "markdown",
      "source": [
        "##Ejercicio 3\n",
        "<img src=\"https://github.com/Centaurodendron/2024/raw/2605bdfb59724d3263663e1368d5e0df4c948503/Haya%20y%20coleoptero.jpg\" width=\"350\" align=\"right\">\n",
        "\n",
        "Una especie forestal (Haya común) es atacada por una plaga de coleópteros, el gorgojo del haya. En un estudio midieron cómo variaba la tasa fotosintética (umol CO2/m2 s) y la tasa transpiratoria (mmol H2O/m2 s) de los árboles según el % larvas por hoja (superficie de la hojas cubierta por larvas).\n",
        "\n",
        "Niveles de infestación\n",
        "\n",
        "1 - hojas con infestación menor al 20%\n",
        "\n",
        "2 - hojas con infestación entre 20% y 25%\n",
        "\n",
        "3 - hojas con infestación entre 25% y 30%\n",
        "\n",
        "4 - hojas con infestación superior al 30%\n",
        "\n",
        "A partir de los datos en los gráficos, calcule la **Eficiencia fotosintética (WUEph)** según los niveles de infectación.\n",
        "- Interprete los resultados.\n",
        "\n",
        "<img src=\"https://github.com/Centaurodendron/2024/raw/2605bdfb59724d3263663e1368d5e0df4c948503/Tasa%20fotosint%C3%A9tica.jpg\" width=\"400\" align=\"left\">\n",
        "\n",
        "<img src=\"https://github.com/Centaurodendron/2024/raw/2605bdfb59724d3263663e1368d5e0df4c948503/Tasa%20transpiratoria.jpg\" width=\"390\" align=\"left\">\n",
        "\n",
        "\n",
        "\n",
        "\n"
      ],
      "metadata": {
        "id": "QfIqTxJZ0GKo"
      }
    },
    {
      "cell_type": "code",
      "source": [
        "W1 = 7.02/0.41\n",
        "W2 = 10.35/0.59\n",
        "W3 = 11.4/0.78\n",
        "W4 = 14.55/0.84\n",
        "print(round(W1,3),round(W2,3),round(W3,3),round(W4,3))"
      ],
      "metadata": {
        "colab": {
          "base_uri": "https://localhost:8080/"
        },
        "id": "F6NfqOYFOc0o",
        "outputId": "373cfd96-cb4d-4232-9348-36bb53be737d"
      },
      "execution_count": null,
      "outputs": [
        {
          "output_type": "stream",
          "name": "stdout",
          "text": [
            "17.122 17.542 14.615 17.321\n"
          ]
        }
      ]
    },
    {
      "cell_type": "markdown",
      "source": [
        "Interprete:\n",
        "- *"
      ],
      "metadata": {
        "id": "XBuPKxfFPPtT"
      }
    },
    {
      "cell_type": "markdown",
      "source": [
        "##Ejercicio 4\n",
        "\n",
        "Con los datos que aparecen en la tabla y la ecuación de **Hargreaves**, calcule:\n",
        "- Evapotranspiración de referencia (PET)\n",
        "- Compare los valores con los de ETo de Penman-Monteith en veces y porcentaje.\n",
        "\n",
        "#𝑃𝐸𝑇 = 0.0023 × 𝑅𝑎(𝑇𝑚𝑎𝑥 − 𝑇𝑚𝑖𝑛)0.5× (𝑇𝑚𝑒𝑎𝑛 + 17.8)\n",
        "\n",
        "- Ra: Radiación extraterrestre en mm/día\n",
        "\n",
        "<img src=\"https://github.com/Centaurodendron/2024/raw/f5719f5c7a6bad34ec19691116c6117d284a98f4/Tabla%20ETo%20PET.png\" width=\"800\" align=\"left\">\n",
        ".\n",
        "\n",
        "\n",
        ".\n",
        "\n",
        "\n",
        ".\n",
        "\n",
        "\n",
        ".\n",
        "\n",
        "- Equivalencia: 1 mm/día = 2,45 MJ/m2 d"
      ],
      "metadata": {
        "id": "hODT-7Ym_QsD"
      }
    },
    {
      "cell_type": "code",
      "source": [
        "Rextra = 38.1 #MJ/m2 día\n",
        "Ra = Rextra/2.45 # mm/día\n",
        "Tmax = 20.3 # °C\n",
        "Tmin = 9.9\n",
        "Tm = 14.7\n",
        "ETo = 3.2 # mm\n",
        "PET = 0.0023 * Ra * (Tmax - Tmin)**0.5 * (Tm + 17.8)\n",
        "Var = PET/ETo*100\n",
        "Ratio = PET/ETo\n",
        "print((round(PET,3)),(round(Var,3)),(round(Ratio,3)))"
      ],
      "metadata": {
        "colab": {
          "base_uri": "https://localhost:8080/"
        },
        "id": "zJ3I0_ZhJ1X_",
        "outputId": "8d3096c2-3142-4735-adcb-e0cbcf9e6e75"
      },
      "execution_count": null,
      "outputs": [
        {
          "output_type": "stream",
          "name": "stdout",
          "text": [
            "3.749 117.149 1.171\n"
          ]
        }
      ]
    },
    {
      "cell_type": "markdown",
      "source": [
        "Interprete:\n"
      ],
      "metadata": {
        "id": "EaQpjxXsMX5d"
      }
    }
  ],
  "metadata": {
    "colab": {
      "provenance": [],
      "include_colab_link": true
    },
    "kernelspec": {
      "display_name": "Python 3 (ipykernel)",
      "language": "python",
      "name": "python3"
    },
    "language_info": {
      "codemirror_mode": {
        "name": "ipython",
        "version": 3
      },
      "file_extension": ".py",
      "mimetype": "text/x-python",
      "name": "python",
      "nbconvert_exporter": "python",
      "pygments_lexer": "ipython3",
      "version": "3.7.8"
    }
  },
  "nbformat": 4,
  "nbformat_minor": 0
}